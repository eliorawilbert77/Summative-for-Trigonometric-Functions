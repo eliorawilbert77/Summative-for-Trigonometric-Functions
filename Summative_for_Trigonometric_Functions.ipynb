{
  "nbformat": 4,
  "nbformat_minor": 0,
  "metadata": {
    "colab": {
      "provenance": []
    },
    "kernelspec": {
      "name": "python3",
      "display_name": "Python 3"
    },
    "language_info": {
      "name": "python"
    }
  },
  "cells": [
    {
      "cell_type": "code",
      "execution_count": null,
      "metadata": {
        "id": "PSphT5OfSUyf"
      },
      "outputs": [],
      "source": [
        "# Write a Python program that prompts the user to choose the type of trigonometric function they want to plot:\n",
        "#sin, cos, or tan. Ensure that the program handles invalid inputs gracefully.\n",
        "\n",
        "import numpy as np\n",
        "import matplotlib.pyplot as plt\n",
        "\n",
        "def plot_trig_function(func_type, x_range):\n",
        "    x = np.linspace(-x_range, x_range, 400)\n",
        "    if func_type == 'sin':\n",
        "        y = np.sin(x)\n",
        "    elif func_type == 'cos':\n",
        "        y = np.cos(x)\n",
        "    elif func_type == 'tan':\n",
        "        y = np.tan(x)\n",
        "        plt.ylim(-10, 10)\n",
        "\n",
        "    plt.figure(figsize=(10, 5))\n",
        "    plt.plot(x, y, label=func_type)\n",
        "    plt.title(f'Plot of {func_type}')\n",
        "    plt.xlabel('x')\n",
        "    plt.ylabel(f'{func_type}(x)')\n",
        "    plt.axhline(0, color='black', linewidth=0.5)\n",
        "    plt.axvline(0, color='black', linewidth=0.5)\n",
        "    plt.grid(True)\n",
        "    plt.legend()\n",
        "    plt.show()\n",
        "\n",
        "def main():\n",
        "    valid_functions = {'sin', 'cos', 'tan'}\n",
        "    while True:\n",
        "        func_type = input(\"Enter the trigonometric function to plot (sin, cos, tan): \").strip().lower()\n",
        "        if func_type in valid_functions:\n",
        "            try:\n",
        "                x_range = float(input(\"Enter the range of x values (ex., 3.14 for pi): \"))\n",
        "                plot_trig_function(func_type, x_range)\n",
        "                break\n",
        "            except ValueError:\n",
        "                print(\"Please enter a valid number value for the range of x.\")\n",
        "        else:\n",
        "            print(\"Invalid function. Please enter 'sin', 'cos', or 'tan'.\")\n",
        "\n",
        "if __name__ == \"__main__\":\n",
        "    main()\n"
      ]
    }
  ]
}